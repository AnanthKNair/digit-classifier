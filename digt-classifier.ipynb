{
 "cells": [
  {
   "cell_type": "code",
   "execution_count": 9,
   "id": "c53d45e4",
   "metadata": {
    "tags": []
   },
   "outputs": [],
   "source": [
    "import numpy as np\n",
    "import pandas as pd\n",
    "import matplotlib.pyplot as plt\n",
    "import tensorflow as tf"
   ]
  },
  {
   "cell_type": "code",
   "execution_count": 10,
   "id": "51f2caa3",
   "metadata": {
    "tags": []
   },
   "outputs": [
    {
     "name": "stdout",
     "output_type": "stream",
     "text": [
      "<class 'pandas.core.frame.DataFrame'>\n",
      "RangeIndex: 42000 entries, 0 to 41999\n",
      "Columns: 785 entries, label to pixel783\n",
      "dtypes: int64(785)\n",
      "memory usage: 251.5 MB\n",
      "None\n"
     ]
    }
   ],
   "source": [
    "data = pd.read_csv('/home/ananth/Downloads/digit/train.csv')\n",
    "print(data.info())"
   ]
  },
  {
   "cell_type": "code",
   "execution_count": 11,
   "id": "1073638a",
   "metadata": {
    "tags": []
   },
   "outputs": [],
   "source": [
    "train_data = data.head(37800)\n",
    "val_data = data.tail(4200)\n",
    "train_labels = train_data.pop('label')\n",
    "val_labels = val_data.pop('label')"
   ]
  },
  {
   "cell_type": "code",
   "execution_count": 12,
   "id": "e3abf7ec",
   "metadata": {
    "tags": []
   },
   "outputs": [
    {
     "name": "stdout",
     "output_type": "stream",
     "text": [
      "<TensorSliceDataset element_spec=(TensorSpec(shape=(784,), dtype=tf.int64, name=None), TensorSpec(shape=(), dtype=tf.int64, name=None))>\n"
     ]
    }
   ],
   "source": [
    "tf_train_data = tf.data.Dataset.from_tensor_slices((train_data.values, train_labels.values))\n",
    "print(tf_train_data)"
   ]
  },
  {
   "cell_type": "code",
   "execution_count": 13,
   "id": "9bfd5adc",
   "metadata": {
    "tags": []
   },
   "outputs": [
    {
     "name": "stdout",
     "output_type": "stream",
     "text": [
      "<TensorSliceDataset element_spec=(TensorSpec(shape=(784,), dtype=tf.int64, name=None), TensorSpec(shape=(), dtype=tf.int64, name=None))>\n"
     ]
    }
   ],
   "source": [
    "tf_val_data = tf.data.Dataset.from_tensor_slices((val_data.values, val_labels.values))\n",
    "print(tf_val_data)"
   ]
  },
  {
   "cell_type": "code",
   "execution_count": 14,
   "id": "bdf71e32",
   "metadata": {
    "tags": []
   },
   "outputs": [
    {
     "data": {
      "image/png": "[encoded data removed]",
      "text/plain": [
       "<Figure size 1000x1000 with 5 Axes>"
      ]
     },
     "metadata": {},
     "output_type": "display_data"
    }
   ],
   "source": [
    "plt.figure(figsize=(10,10))\n",
    "i = 0\n",
    "\n",
    "for image, label in tf_train_data.take(5):\n",
    "    plt.subplot(1,5,i+1)\n",
    "    plt.xticks([])\n",
    "    plt.yticks([])\n",
    "    plt.grid(False)\n",
    "\n",
    "    plt.imshow(image.numpy().reshape((28, 28)), cmap='gray')\n",
    "    plt.xlabel(label.numpy())\n",
    "\n",
    "    i = i + 1"
   ]
  },
  {
   "cell_type": "code",
   "execution_count": 15,
   "id": "3b613600",
   "metadata": {
    "tags": []
   },
   "outputs": [],
   "source": [
    "def preprocess_image(image, label):\n",
    "    image = tf.reshape(image, [28, 28, 1])\n",
    "    image = tf.cast(image, tf.float32) / 255.\n",
    "    return image, label"
   ]
  },
  {
   "cell_type": "code",
   "execution_count": 16,
   "id": "fb446dd7",
   "metadata": {
    "tags": []
   },
   "outputs": [
    {
     "name": "stdout",
     "output_type": "stream",
     "text": [
      "<ParallelMapDataset element_spec=(TensorSpec(shape=(28, 28, 1), dtype=tf.float32, name=None), TensorSpec(shape=(), dtype=tf.int64, name=None))>\n"
     ]
    }
   ],
   "source": [
    "tf_train_data = tf_train_data.map(\n",
    "    preprocess_image, \n",
    "    num_parallel_calls=tf.data.experimental.AUTOTUNE\n",
    ")\n",
    "print(tf_train_data)"
   ]
  },
  {
   "cell_type": "code",
   "execution_count": 17,
   "id": "6ee2597c",
   "metadata": {
    "tags": []
   },
   "outputs": [
    {
     "name": "stdout",
     "output_type": "stream",
     "text": [
      "<ParallelMapDataset element_spec=(TensorSpec(shape=(28, 28, 1), dtype=tf.float32, name=None), TensorSpec(shape=(), dtype=tf.int64, name=None))>\n"
     ]
    }
   ],
   "source": [
    "tf_val_data = tf_val_data.map(\n",
    "    preprocess_image, \n",
    "    num_parallel_calls=tf.data.experimental.AUTOTUNE\n",
    ")\n",
    "print(tf_val_data)"
   ]
  },
  {
   "cell_type": "code",
   "execution_count": 18,
   "id": "f4e12402",
   "metadata": {
    "tags": []
   },
   "outputs": [],
   "source": [
    "def pipeline(tf_data):\n",
    "    tf_data = tf_data.shuffle(100)\n",
    "    tf_data = tf_data.batch(32)\n",
    "    tf_data = tf_data.prefetch(tf.data.experimental.AUTOTUNE)\n",
    "    return tf_data"
   ]
  },
  {
   "cell_type": "code",
   "execution_count": 19,
   "id": "185fba24",
   "metadata": {
    "tags": []
   },
   "outputs": [
    {
     "name": "stdout",
     "output_type": "stream",
     "text": [
      "<PrefetchDataset element_spec=(TensorSpec(shape=(None, 28, 28, 1), dtype=tf.float32, name=None), TensorSpec(shape=(None,), dtype=tf.int64, name=None))>\n"
     ]
    }
   ],
   "source": [
    "tf_train_data = pipeline(tf_train_data)\n",
    "print(tf_train_data)"
   ]
  },
  {
   "cell_type": "code",
   "execution_count": 20,
   "id": "fe934524",
   "metadata": {
    "tags": []
   },
   "outputs": [
    {
     "name": "stdout",
     "output_type": "stream",
     "text": [
      "<PrefetchDataset element_spec=(TensorSpec(shape=(None, 28, 28, 1), dtype=tf.float32, name=None), TensorSpec(shape=(None,), dtype=tf.int64, name=None))>\n"
     ]
    }
   ],
   "source": [
    "tf_val_data = pipeline(tf_val_data)\n",
    "print(tf_val_data)"
   ]
  },
  {
   "cell_type": "code",
   "execution_count": 21,
   "id": "963ffeef",
   "metadata": {
    "tags": []
   },
   "outputs": [],
   "source": [
    "#Training - LeNet-5 CNN "
   ]
  },
  {
   "cell_type": "code",
   "execution_count": 22,
   "id": "e6ee9b46",
   "metadata": {
    "tags": []
   },
   "outputs": [],
   "source": [
    "model = tf.keras.Sequential([\n",
    "    tf.keras.layers.Conv2D(6, (5, 5), activation='relu', padding='same', input_shape=(28, 28, 1)),\n",
    "    tf.keras.layers.MaxPooling2D((2, 2)),\n",
    "    \n",
    "    tf.keras.layers.Conv2D(16, (5, 5), activation='relu', padding='valid'),\n",
    "    tf.keras.layers.MaxPooling2D((2, 2)),\n",
    "    \n",
    "    tf.keras.layers.Flatten(),\n",
    "    tf.keras.layers.Dense(120, activation='relu'),\n",
    "    tf.keras.layers.Dense(84, activation='relu'),\n",
    "    \n",
    "    tf.keras.layers.Dense(10, activation='softmax'),\n",
    "])"
   ]
  },
  {
   "cell_type": "code",
   "execution_count": 23,
   "id": "35ec0273",
   "metadata": {
    "tags": []
   },
   "outputs": [],
   "source": [
    "optimiser = tf.keras.optimizers.Adam(learning_rate=0.001)"
   ]
  },
  {
   "cell_type": "code",
   "execution_count": 24,
   "id": "1e6bcb5c",
   "metadata": {
    "tags": []
   },
   "outputs": [],
   "source": [
    "model.compile(\n",
    "    optimizer=optimiser, \n",
    "    loss='sparse_categorical_crossentropy', \n",
    "    metrics=['accuracy'])"
   ]
  },
  {
   "cell_type": "code",
   "execution_count": 25,
   "id": "09b35374",
   "metadata": {
    "tags": []
   },
   "outputs": [
    {
     "name": "stdout",
     "output_type": "stream",
     "text": [
      "Model: \"sequential\"\n",
      "_________________________________________________________________\n",
      " Layer (type)                Output Shape              Param #   \n",
      "=================================================================\n",
      " conv2d (Conv2D)             (None, 28, 28, 6)         156       \n",
      "                                                                 \n",
      " max_pooling2d (MaxPooling2D  (None, 14, 14, 6)        0         \n",
      " )                                                               \n",
      "                                                                 \n",
      " conv2d_1 (Conv2D)           (None, 10, 10, 16)        2416      \n",
      "                                                                 \n",
      " max_pooling2d_1 (MaxPooling  (None, 5, 5, 16)         0         \n",
      " 2D)                                                             \n",
      "                                                                 \n",
      " flatten (Flatten)           (None, 400)               0         \n",
      "                                                                 \n",
      " dense (Dense)               (None, 120)               48120     \n",
      "                                                                 \n",
      " dense_1 (Dense)             (None, 84)                10164     \n",
      "                                                                 \n",
      " dense_2 (Dense)             (None, 10)                850       \n",
      "                                                                 \n",
      "=================================================================\n",
      "Total params: 61,706\n",
      "Trainable params: 61,706\n",
      "Non-trainable params: 0\n",
      "_________________________________________________________________\n"
     ]
    }
   ],
   "source": [
    "model.summary()"
   ]
  },
  {
   "cell_type": "code",
   "execution_count": 26,
   "id": "87998648",
   "metadata": {
    "tags": []
   },
   "outputs": [],
   "source": [
    "#Learningratedecay on no loss and Early Stopping"
   ]
  },
  {
   "cell_type": "code",
   "execution_count": 27,
   "id": "4375fbac",
   "metadata": {
    "tags": []
   },
   "outputs": [],
   "source": [
    "callbacks = [\n",
    "    tf.keras.callbacks.ReduceLROnPlateau(monitor='loss', patience=2, verbose=1),\n",
    "    tf.keras.callbacks.EarlyStopping(monitor='loss', patience=5, verbose=1),\n",
    "]"
   ]
  },
  {
   "cell_type": "code",
   "execution_count": null,
   "id": "590c2f9d",
   "metadata": {
    "tags": []
   },
   "outputs": [
    {
     "name": "stdout",
     "output_type": "stream",
     "text": [
      "Epoch 1/30\n",
      "1182/1182 [==============================] - 27s 21ms/step - loss: 0.2392 - accuracy: 0.9272 - val_loss: 0.0828 - val_accuracy: 0.9731 - lr: 0.0010\n",
      "Epoch 2/30\n",
      "1182/1182 [==============================] - 28s 24ms/step - loss: 0.0736 - accuracy: 0.9779 - val_loss: 0.0672 - val_accuracy: 0.9810 - lr: 0.0010\n",
      "Epoch 3/30\n",
      "1182/1182 [==============================] - 28s 23ms/step - loss: 0.0520 - accuracy: 0.9839 - val_loss: 0.0709 - val_accuracy: 0.9764 - lr: 0.0010\n",
      "Epoch 4/30\n",
      " 439/1182 [==========>...................] - ETA: 13s - loss: 0.0415 - accuracy: 0.9863"
     ]
    }
   ],
   "source": [
    "train_log = model.fit(\n",
    "    tf_train_data,\n",
    "    validation_data=tf_val_data,\n",
    "    epochs=30,\n",
    "    callbacks=callbacks\n",
    ")\n"
   ]
  },
  {
   "cell_type": "code",
   "execution_count": null,
   "id": "e55e8e4d",
   "metadata": {},
   "outputs": [],
   "source": [
    "# Model has been trained"
   ]
  },
  {
   "cell_type": "code",
   "execution_count": null,
   "id": "b2b0165b",
   "metadata": {},
   "outputs": [],
   "source": [
    "plt.plot(train_log.history['accuracy'], label='accuracy')\n",
    "plt.plot(train_log.history['val_accuracy'], label = 'val_accuracy')\n",
    "plt.xlabel('Epoch')\n",
    "plt.ylabel('Accuracy')\n",
    "plt.legend()\n",
    "\n",
    "print('Training accuracy: %f' % train_log.history['accuracy'][-1])\n",
    "print('Validation accuracy: %f' % train_log.history['val_accuracy'][-1])"
   ]
  },
  {
   "cell_type": "code",
   "execution_count": null,
   "id": "4182b1e1",
   "metadata": {},
   "outputs": [],
   "source": [
    "#Testing"
   ]
  },
  {
   "cell_type": "code",
   "execution_count": null,
   "id": "67fc6200",
   "metadata": {},
   "outputs": [],
   "source": [
    "test_data = pd.read_csv('/home/ananth/Downloads/digit/train.csv')\n",
    "tf_test_data = tf.data.Dataset.from_tensor_slices(([test_data.to_numpy().reshape(len(test_data), 28, 28, 1)]))"
   ]
  },
  {
   "cell_type": "code",
   "execution_count": null,
   "id": "c4007b7b",
   "metadata": {},
   "outputs": [],
   "source": [
    "predictions = model.predict(tf_test_data)\n",
    "predictions = np.argmax(predictions, axis=1)"
   ]
  },
  {
   "cell_type": "code",
   "execution_count": null,
   "id": "a2e45bb2",
   "metadata": {},
   "outputs": [],
   "source": [
    "plt.figure(figsize=(10,10))\n",
    "\n",
    "for i, row in test_data.head(15).iterrows():\n",
    "    plt.subplot(3,5,i+1)\n",
    "    plt.xticks([])\n",
    "    plt.yticks([])\n",
    "    plt.grid(False)\n",
    "\n",
    "    plt.imshow(row.values.reshape((28, 28)), cmap='gray')\n",
    "    plt.xlabel(predictions[i])"
   ]
  },
  {
   "cell_type": "code",
   "execution_count": null,
   "id": "4da2bb36",
   "metadata": {},
   "outputs": [],
   "source": [
    "predictions_df = pd.DataFrame(data={'Label': predictions}, index=pd.RangeIndex(start=1, stop=28001))\n",
    "predictions_df.index = predictions_df.index.rename('ImageId')\n",
    "\n",
    "predictions_df.to_csv('home/ananth/Downloads/digit/submit.csv')"
   ]
  },
  {
   "cell_type": "code",
   "execution_count": null,
   "id": "f911149b",
   "metadata": {},
   "outputs": [],
   "source": []
  }
 ],
 "metadata": {
  "kernelspec": {
   "display_name": "Python 3 (ipykernel)",
   "language": "python",
   "name": "python3"
  },
  "language_info": {
   "codemirror_mode": {
    "name": "ipython",
    "version": 3
   },
   "file_extension": ".py",
   "mimetype": "text/x-python",
   "name": "python",
   "nbconvert_exporter": "python",
   "pygments_lexer": "ipython3",
   "version": "3.10.6"
  }
 },
 "nbformat": 4,
 "nbformat_minor": 5
}
